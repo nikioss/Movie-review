{
 "cells": [
  {
   "cell_type": "code",
   "execution_count": 1,
   "id": "7c8fec05-e030-41e3-b956-9defc31ad53a",
   "metadata": {},
   "outputs": [
    {
     "name": "stdout",
     "output_type": "stream",
     "text": [
      "Requirement already satisfied: nltk in c:\\users\\ysx12\\anaconda3\\lib\\site-packages (3.9.1)\n",
      "Requirement already satisfied: click in c:\\users\\ysx12\\anaconda3\\lib\\site-packages (from nltk) (8.1.7)\n",
      "Requirement already satisfied: joblib in c:\\users\\ysx12\\anaconda3\\lib\\site-packages (from nltk) (1.2.0)\n",
      "Requirement already satisfied: regex>=2021.8.3 in c:\\users\\ysx12\\anaconda3\\lib\\site-packages (from nltk) (2023.10.3)\n",
      "Requirement already satisfied: tqdm in c:\\users\\ysx12\\anaconda3\\lib\\site-packages (from nltk) (4.65.0)\n",
      "Requirement already satisfied: colorama in c:\\users\\ysx12\\anaconda3\\lib\\site-packages (from click->nltk) (0.4.6)\n"
     ]
    }
   ],
   "source": [
    "!pip install nltk"
   ]
  },
  {
   "cell_type": "code",
   "execution_count": 2,
   "id": "a37fc4ba-34cb-4385-ae1f-b59d5652e95a",
   "metadata": {
    "scrolled": true
   },
   "outputs": [
    {
     "name": "stdout",
     "output_type": "stream",
     "text": [
      "Requirement already satisfied: spacy in c:\\users\\ysx12\\anaconda3\\lib\\site-packages (3.8.2)\n",
      "Requirement already satisfied: spacy-legacy<3.1.0,>=3.0.11 in c:\\users\\ysx12\\anaconda3\\lib\\site-packages (from spacy) (3.0.12)\n",
      "Requirement already satisfied: spacy-loggers<2.0.0,>=1.0.0 in c:\\users\\ysx12\\anaconda3\\lib\\site-packages (from spacy) (1.0.5)\n",
      "Requirement already satisfied: murmurhash<1.1.0,>=0.28.0 in c:\\users\\ysx12\\anaconda3\\lib\\site-packages (from spacy) (1.0.10)\n",
      "Requirement already satisfied: cymem<2.1.0,>=2.0.2 in c:\\users\\ysx12\\anaconda3\\lib\\site-packages (from spacy) (2.0.8)\n",
      "Requirement already satisfied: preshed<3.1.0,>=3.0.2 in c:\\users\\ysx12\\anaconda3\\lib\\site-packages (from spacy) (3.0.9)\n",
      "Requirement already satisfied: thinc<8.4.0,>=8.3.0 in c:\\users\\ysx12\\anaconda3\\lib\\site-packages (from spacy) (8.3.2)\n",
      "Requirement already satisfied: wasabi<1.2.0,>=0.9.1 in c:\\users\\ysx12\\anaconda3\\lib\\site-packages (from spacy) (1.1.3)\n",
      "Requirement already satisfied: srsly<3.0.0,>=2.4.3 in c:\\users\\ysx12\\anaconda3\\lib\\site-packages (from spacy) (2.4.8)\n",
      "Requirement already satisfied: catalogue<2.1.0,>=2.0.6 in c:\\users\\ysx12\\anaconda3\\lib\\site-packages (from spacy) (2.0.10)\n",
      "Requirement already satisfied: weasel<0.5.0,>=0.1.0 in c:\\users\\ysx12\\anaconda3\\lib\\site-packages (from spacy) (0.4.1)\n",
      "Requirement already satisfied: typer<1.0.0,>=0.3.0 in c:\\users\\ysx12\\anaconda3\\lib\\site-packages (from spacy) (0.12.5)\n",
      "Requirement already satisfied: tqdm<5.0.0,>=4.38.0 in c:\\users\\ysx12\\anaconda3\\lib\\site-packages (from spacy) (4.65.0)\n",
      "Requirement already satisfied: requests<3.0.0,>=2.13.0 in c:\\users\\ysx12\\anaconda3\\lib\\site-packages (from spacy) (2.31.0)\n",
      "Requirement already satisfied: pydantic!=1.8,!=1.8.1,<3.0.0,>=1.7.4 in c:\\users\\ysx12\\anaconda3\\lib\\site-packages (from spacy) (2.7.4)\n",
      "Requirement already satisfied: jinja2 in c:\\users\\ysx12\\anaconda3\\lib\\site-packages (from spacy) (3.1.3)\n",
      "Requirement already satisfied: setuptools in c:\\users\\ysx12\\anaconda3\\lib\\site-packages (from spacy) (68.2.2)\n",
      "Requirement already satisfied: packaging>=20.0 in c:\\users\\ysx12\\anaconda3\\lib\\site-packages (from spacy) (23.1)\n",
      "Requirement already satisfied: langcodes<4.0.0,>=3.2.0 in c:\\users\\ysx12\\anaconda3\\lib\\site-packages (from spacy) (3.4.1)\n",
      "Requirement already satisfied: numpy>=1.19.0 in c:\\users\\ysx12\\anaconda3\\lib\\site-packages (from spacy) (1.24.4)\n",
      "Requirement already satisfied: language-data>=1.2 in c:\\users\\ysx12\\anaconda3\\lib\\site-packages (from langcodes<4.0.0,>=3.2.0->spacy) (1.2.0)\n",
      "Requirement already satisfied: annotated-types>=0.4.0 in c:\\users\\ysx12\\anaconda3\\lib\\site-packages (from pydantic!=1.8,!=1.8.1,<3.0.0,>=1.7.4->spacy) (0.7.0)\n",
      "Requirement already satisfied: pydantic-core==2.18.4 in c:\\users\\ysx12\\anaconda3\\lib\\site-packages (from pydantic!=1.8,!=1.8.1,<3.0.0,>=1.7.4->spacy) (2.18.4)\n",
      "Requirement already satisfied: typing-extensions>=4.6.1 in c:\\users\\ysx12\\anaconda3\\lib\\site-packages (from pydantic!=1.8,!=1.8.1,<3.0.0,>=1.7.4->spacy) (4.12.2)\n",
      "Requirement already satisfied: charset-normalizer<4,>=2 in c:\\users\\ysx12\\anaconda3\\lib\\site-packages (from requests<3.0.0,>=2.13.0->spacy) (2.0.4)\n",
      "Requirement already satisfied: idna<4,>=2.5 in c:\\users\\ysx12\\anaconda3\\lib\\site-packages (from requests<3.0.0,>=2.13.0->spacy) (3.4)\n",
      "Requirement already satisfied: urllib3<3,>=1.21.1 in c:\\users\\ysx12\\anaconda3\\lib\\site-packages (from requests<3.0.0,>=2.13.0->spacy) (2.0.7)\n",
      "Requirement already satisfied: certifi>=2017.4.17 in c:\\users\\ysx12\\anaconda3\\lib\\site-packages (from requests<3.0.0,>=2.13.0->spacy) (2024.7.4)\n",
      "Requirement already satisfied: blis<1.1.0,>=1.0.0 in c:\\users\\ysx12\\anaconda3\\lib\\site-packages (from thinc<8.4.0,>=8.3.0->spacy) (1.0.1)\n",
      "Requirement already satisfied: confection<1.0.0,>=0.0.1 in c:\\users\\ysx12\\anaconda3\\lib\\site-packages (from thinc<8.4.0,>=8.3.0->spacy) (0.1.5)\n",
      "Collecting numpy>=1.19.0 (from spacy)\n",
      "  Using cached numpy-2.0.2-cp311-cp311-win_amd64.whl.metadata (59 kB)\n",
      "Requirement already satisfied: colorama in c:\\users\\ysx12\\anaconda3\\lib\\site-packages (from tqdm<5.0.0,>=4.38.0->spacy) (0.4.6)\n",
      "Requirement already satisfied: click>=8.0.0 in c:\\users\\ysx12\\anaconda3\\lib\\site-packages (from typer<1.0.0,>=0.3.0->spacy) (8.1.7)\n",
      "Requirement already satisfied: shellingham>=1.3.0 in c:\\users\\ysx12\\anaconda3\\lib\\site-packages (from typer<1.0.0,>=0.3.0->spacy) (1.5.4)\n",
      "Requirement already satisfied: rich>=10.11.0 in c:\\users\\ysx12\\anaconda3\\lib\\site-packages (from typer<1.0.0,>=0.3.0->spacy) (13.3.5)\n",
      "Requirement already satisfied: cloudpathlib<1.0.0,>=0.7.0 in c:\\users\\ysx12\\anaconda3\\lib\\site-packages (from weasel<0.5.0,>=0.1.0->spacy) (0.19.0)\n",
      "Requirement already satisfied: smart-open<8.0.0,>=5.2.1 in c:\\users\\ysx12\\anaconda3\\lib\\site-packages (from weasel<0.5.0,>=0.1.0->spacy) (5.2.1)\n",
      "Requirement already satisfied: MarkupSafe>=2.0 in c:\\users\\ysx12\\anaconda3\\lib\\site-packages (from jinja2->spacy) (2.1.3)\n",
      "Requirement already satisfied: marisa-trie>=0.7.7 in c:\\users\\ysx12\\anaconda3\\lib\\site-packages (from language-data>=1.2->langcodes<4.0.0,>=3.2.0->spacy) (1.2.1)\n",
      "Requirement already satisfied: markdown-it-py<3.0.0,>=2.2.0 in c:\\users\\ysx12\\anaconda3\\lib\\site-packages (from rich>=10.11.0->typer<1.0.0,>=0.3.0->spacy) (2.2.0)\n",
      "Requirement already satisfied: pygments<3.0.0,>=2.13.0 in c:\\users\\ysx12\\anaconda3\\lib\\site-packages (from rich>=10.11.0->typer<1.0.0,>=0.3.0->spacy) (2.15.1)\n",
      "Requirement already satisfied: mdurl~=0.1 in c:\\users\\ysx12\\anaconda3\\lib\\site-packages (from markdown-it-py<3.0.0,>=2.2.0->rich>=10.11.0->typer<1.0.0,>=0.3.0->spacy) (0.1.0)\n",
      "Using cached numpy-2.0.2-cp311-cp311-win_amd64.whl (15.9 MB)\n",
      "Installing collected packages: numpy\n",
      "  Attempting uninstall: numpy\n",
      "    Found existing installation: numpy 1.24.4\n",
      "    Uninstalling numpy-1.24.4:\n",
      "      Successfully uninstalled numpy-1.24.4\n",
      "Successfully installed numpy-2.0.2\n"
     ]
    },
    {
     "name": "stderr",
     "output_type": "stream",
     "text": [
      "  WARNING: Failed to remove contents in a temporary directory 'C:\\Users\\ysx12\\anaconda3\\Lib\\site-packages\\numpy\\~libs'.\n",
      "  You can safely remove it manually.\n",
      "  WARNING: Failed to remove contents in a temporary directory 'C:\\Users\\ysx12\\AppData\\Local\\Temp\\pip-uninstall-jzh3h8gy'.\n",
      "  You can safely remove it manually.\n",
      "ERROR: pip's dependency resolver does not currently take into account all the packages that are installed. This behaviour is the source of the following dependency conflicts.\n",
      "gensim 4.3.0 requires FuzzyTM>=0.4.0, which is not installed.\n",
      "astropy 5.3.4 requires numpy<2,>=1.21, but you have numpy 2.0.2 which is incompatible.\n",
      "contourpy 1.2.0 requires numpy<2.0,>=1.20, but you have numpy 2.0.2 which is incompatible.\n",
      "matplotlib 3.8.0 requires numpy<2,>=1.21, but you have numpy 2.0.2 which is incompatible.\n",
      "numba 0.59.0 requires numpy<1.27,>=1.22, but you have numpy 2.0.2 which is incompatible.\n",
      "pandas 2.1.4 requires numpy<2,>=1.23.2; python_version == \"3.11\", but you have numpy 2.0.2 which is incompatible.\n",
      "pywavelets 1.5.0 requires numpy<2.0,>=1.22.4, but you have numpy 2.0.2 which is incompatible.\n",
      "scipy 1.11.4 requires numpy<1.28.0,>=1.21.6, but you have numpy 2.0.2 which is incompatible.\n",
      "streamlit 1.30.0 requires numpy<2,>=1.19.3, but you have numpy 2.0.2 which is incompatible.\n",
      "ydata-profiling 4.8.3 requires numpy<2,>=1.16.0, but you have numpy 2.0.2 which is incompatible.\n"
     ]
    }
   ],
   "source": [
    "!pip install spacy"
   ]
  },
  {
   "cell_type": "code",
   "execution_count": 3,
   "id": "98a74f80-5e45-47a8-b849-c235688978da",
   "metadata": {
    "scrolled": true
   },
   "outputs": [
    {
     "name": "stdout",
     "output_type": "stream",
     "text": [
      "Requirement already satisfied: numpy in c:\\users\\ysx12\\anaconda3\\lib\\site-packages (2.0.2)\n",
      "Collecting numpy\n",
      "  Using cached numpy-2.1.2-cp311-cp311-win_amd64.whl.metadata (59 kB)\n",
      "Requirement already satisfied: h5py in c:\\users\\ysx12\\anaconda3\\lib\\site-packages (3.12.1)\n",
      "Using cached numpy-2.1.2-cp311-cp311-win_amd64.whl (12.9 MB)\n",
      "Installing collected packages: numpy\n",
      "  Attempting uninstall: numpy\n",
      "    Found existing installation: numpy 2.0.2\n",
      "    Uninstalling numpy-2.0.2:\n",
      "      Successfully uninstalled numpy-2.0.2\n",
      "Successfully installed numpy-2.1.2\n"
     ]
    },
    {
     "name": "stderr",
     "output_type": "stream",
     "text": [
      "ERROR: pip's dependency resolver does not currently take into account all the packages that are installed. This behaviour is the source of the following dependency conflicts.\n",
      "gensim 4.3.0 requires FuzzyTM>=0.4.0, which is not installed.\n",
      "astropy 5.3.4 requires numpy<2,>=1.21, but you have numpy 2.1.2 which is incompatible.\n",
      "contourpy 1.2.0 requires numpy<2.0,>=1.20, but you have numpy 2.1.2 which is incompatible.\n",
      "matplotlib 3.8.0 requires numpy<2,>=1.21, but you have numpy 2.1.2 which is incompatible.\n",
      "numba 0.59.0 requires numpy<1.27,>=1.22, but you have numpy 2.1.2 which is incompatible.\n",
      "pandas 2.1.4 requires numpy<2,>=1.23.2; python_version == \"3.11\", but you have numpy 2.1.2 which is incompatible.\n",
      "pywavelets 1.5.0 requires numpy<2.0,>=1.22.4, but you have numpy 2.1.2 which is incompatible.\n",
      "scipy 1.11.4 requires numpy<1.28.0,>=1.21.6, but you have numpy 2.1.2 which is incompatible.\n",
      "streamlit 1.30.0 requires numpy<2,>=1.19.3, but you have numpy 2.1.2 which is incompatible.\n",
      "thinc 8.3.2 requires numpy<2.1.0,>=2.0.0; python_version >= \"3.9\", but you have numpy 2.1.2 which is incompatible.\n",
      "ydata-profiling 4.8.3 requires numpy<2,>=1.16.0, but you have numpy 2.1.2 which is incompatible.\n"
     ]
    }
   ],
   "source": [
    "!pip install --upgrade numpy h5py"
   ]
  },
  {
   "cell_type": "code",
   "execution_count": 4,
   "id": "082e8893-08d7-4817-a76c-05eada57c5be",
   "metadata": {},
   "outputs": [
    {
     "name": "stdout",
     "output_type": "stream",
     "text": [
      "Collecting numpy==1.24.4\n",
      "  Using cached numpy-1.24.4-cp311-cp311-win_amd64.whl.metadata (5.6 kB)\n",
      "Using cached numpy-1.24.4-cp311-cp311-win_amd64.whl (14.8 MB)\n",
      "Installing collected packages: numpy\n",
      "  Attempting uninstall: numpy\n",
      "    Found existing installation: numpy 2.1.2\n",
      "    Uninstalling numpy-2.1.2:\n",
      "      Successfully uninstalled numpy-2.1.2\n",
      "Successfully installed numpy-1.24.4\n"
     ]
    },
    {
     "name": "stderr",
     "output_type": "stream",
     "text": [
      "ERROR: pip's dependency resolver does not currently take into account all the packages that are installed. This behaviour is the source of the following dependency conflicts.\n",
      "gensim 4.3.0 requires FuzzyTM>=0.4.0, which is not installed.\n",
      "blis 1.0.1 requires numpy<3.0.0,>=2.0.0, but you have numpy 1.24.4 which is incompatible.\n",
      "thinc 8.3.2 requires numpy<2.1.0,>=2.0.0; python_version >= \"3.9\", but you have numpy 1.24.4 which is incompatible.\n"
     ]
    }
   ],
   "source": [
    "!pip install numpy==1.24.4"
   ]
  },
  {
   "cell_type": "code",
   "execution_count": 5,
   "id": "a30cfb58-5809-4230-882c-b47f4fdf3037",
   "metadata": {
    "scrolled": true
   },
   "outputs": [
    {
     "name": "stdout",
     "output_type": "stream",
     "text": [
      "Collecting en-core-web-sm==3.8.0\n",
      "  Downloading https://github.com/explosion/spacy-models/releases/download/en_core_web_sm-3.8.0/en_core_web_sm-3.8.0-py3-none-any.whl (12.8 MB)\n",
      "     ---------------------------------------- 0.0/12.8 MB ? eta -:--:--\n",
      "     ---------------------------------------- 0.0/12.8 MB ? eta -:--:--\n",
      "     --------------------------------------- 0.0/12.8 MB 393.8 kB/s eta 0:00:33\n",
      "     --------------------------------------- 0.1/12.8 MB 655.4 kB/s eta 0:00:20\n",
      "      -------------------------------------- 0.2/12.8 MB 952.6 kB/s eta 0:00:14\n",
      "      --------------------------------------- 0.3/12.8 MB 1.4 MB/s eta 0:00:10\n",
      "     - -------------------------------------- 0.5/12.8 MB 2.0 MB/s eta 0:00:07\n",
      "     -- ------------------------------------- 0.9/12.8 MB 2.9 MB/s eta 0:00:05\n",
      "     --- ------------------------------------ 1.0/12.8 MB 2.9 MB/s eta 0:00:05\n",
      "     ---- ----------------------------------- 1.5/12.8 MB 3.9 MB/s eta 0:00:03\n",
      "     ---- ----------------------------------- 1.5/12.8 MB 3.9 MB/s eta 0:00:03\n",
      "     ---- ----------------------------------- 1.5/12.8 MB 3.9 MB/s eta 0:00:03\n",
      "     ---- ----------------------------------- 1.5/12.8 MB 3.9 MB/s eta 0:00:03\n",
      "     ---- ----------------------------------- 1.5/12.8 MB 3.9 MB/s eta 0:00:03\n",
      "     ---- ----------------------------------- 1.5/12.8 MB 3.9 MB/s eta 0:00:03\n",
      "     ---- ----------------------------------- 1.5/12.8 MB 2.4 MB/s eta 0:00:05\n",
      "     ---- ----------------------------------- 1.5/12.8 MB 2.4 MB/s eta 0:00:05\n",
      "     ---- ----------------------------------- 1.5/12.8 MB 2.4 MB/s eta 0:00:05\n",
      "     ---- ----------------------------------- 1.5/12.8 MB 2.4 MB/s eta 0:00:05\n",
      "     ---- ----------------------------------- 1.5/12.8 MB 2.4 MB/s eta 0:00:05\n",
      "     ---- ----------------------------------- 1.5/12.8 MB 2.4 MB/s eta 0:00:05\n",
      "     ---- ----------------------------------- 1.5/12.8 MB 2.4 MB/s eta 0:00:05\n",
      "     ---- ----------------------------------- 1.5/12.8 MB 2.4 MB/s eta 0:00:05\n",
      "     ---- ----------------------------------- 1.5/12.8 MB 2.4 MB/s eta 0:00:05\n",
      "     ---- ----------------------------------- 1.5/12.8 MB 2.4 MB/s eta 0:00:05\n",
      "     ---- ----------------------------------- 1.5/12.8 MB 2.4 MB/s eta 0:00:05\n",
      "     ---- ----------------------------------- 1.5/12.8 MB 2.4 MB/s eta 0:00:05\n",
      "     ---- ----------------------------------- 1.5/12.8 MB 2.4 MB/s eta 0:00:05\n",
      "     ---- ----------------------------------- 1.5/12.8 MB 2.4 MB/s eta 0:00:05\n",
      "     ---- ----------------------------------- 1.5/12.8 MB 2.4 MB/s eta 0:00:05\n",
      "     ---- ----------------------------------- 1.5/12.8 MB 2.4 MB/s eta 0:00:05\n",
      "     ---- ----------------------------------- 1.5/12.8 MB 1.1 MB/s eta 0:00:10\n",
      "     ---- ----------------------------------- 1.5/12.8 MB 1.1 MB/s eta 0:00:10\n",
      "     ---- ----------------------------------- 1.5/12.8 MB 1.1 MB/s eta 0:00:10\n",
      "     ---- ----------------------------------- 1.5/12.8 MB 1.1 MB/s eta 0:00:11\n",
      "     ---- ----------------------------------- 1.5/12.8 MB 1.1 MB/s eta 0:00:11\n",
      "     ---- ----------------------------------- 1.6/12.8 MB 1.0 MB/s eta 0:00:12\n",
      "     ---- ----------------------------------- 1.6/12.8 MB 1.0 MB/s eta 0:00:12\n",
      "     ---- ---------------------------------- 1.6/12.8 MB 996.4 kB/s eta 0:00:12\n",
      "     ---- ---------------------------------- 1.6/12.8 MB 996.4 kB/s eta 0:00:12\n",
      "     ---- ---------------------------------- 1.6/12.8 MB 964.6 kB/s eta 0:00:12\n",
      "     ---- ---------------------------------- 1.6/12.8 MB 947.7 kB/s eta 0:00:12\n",
      "     ----- --------------------------------- 1.7/12.8 MB 934.1 kB/s eta 0:00:12\n",
      "     ----- --------------------------------- 1.7/12.8 MB 926.8 kB/s eta 0:00:12\n",
      "     ----- --------------------------------- 1.7/12.8 MB 914.4 kB/s eta 0:00:13\n",
      "     ----- --------------------------------- 1.7/12.8 MB 904.8 kB/s eta 0:00:13\n",
      "     ------ --------------------------------- 2.0/12.8 MB 1.0 MB/s eta 0:00:11\n",
      "     ------ --------------------------------- 2.1/12.8 MB 1.0 MB/s eta 0:00:11\n",
      "     ------- -------------------------------- 2.3/12.8 MB 1.1 MB/s eta 0:00:10\n",
      "     ------- -------------------------------- 2.5/12.8 MB 1.2 MB/s eta 0:00:09\n",
      "     -------- ------------------------------- 2.8/12.8 MB 1.3 MB/s eta 0:00:08\n",
      "     --------- ------------------------------ 3.0/12.8 MB 1.4 MB/s eta 0:00:08\n",
      "     ---------- ----------------------------- 3.2/12.8 MB 1.4 MB/s eta 0:00:07\n",
      "     ---------- ----------------------------- 3.4/12.8 MB 1.5 MB/s eta 0:00:07\n",
      "     ----------- ---------------------------- 3.6/12.8 MB 1.6 MB/s eta 0:00:06\n",
      "     ------------ --------------------------- 3.9/12.8 MB 1.6 MB/s eta 0:00:06\n",
      "     ------------- -------------------------- 4.2/12.8 MB 1.7 MB/s eta 0:00:05\n",
      "     ------------- -------------------------- 4.4/12.8 MB 1.8 MB/s eta 0:00:05\n",
      "     -------------- ------------------------- 4.7/12.8 MB 1.9 MB/s eta 0:00:05\n",
      "     --------------- ------------------------ 5.0/12.8 MB 2.0 MB/s eta 0:00:04\n",
      "     ---------------- ----------------------- 5.4/12.8 MB 2.1 MB/s eta 0:00:04\n",
      "     ----------------- ---------------------- 5.6/12.8 MB 2.2 MB/s eta 0:00:04\n",
      "     ------------------ --------------------- 6.0/12.8 MB 2.2 MB/s eta 0:00:04\n",
      "     ------------------- -------------------- 6.2/12.8 MB 2.3 MB/s eta 0:00:03\n",
      "     -------------------- ------------------- 6.5/12.8 MB 2.4 MB/s eta 0:00:03\n",
      "     --------------------- ------------------ 6.9/12.8 MB 2.5 MB/s eta 0:00:03\n",
      "     ---------------------- ----------------- 7.2/12.8 MB 2.5 MB/s eta 0:00:03\n",
      "     ----------------------- ---------------- 7.6/12.8 MB 2.6 MB/s eta 0:00:02\n",
      "     ------------------------- -------------- 8.0/12.8 MB 2.8 MB/s eta 0:00:02\n",
      "     -------------------------- ------------- 8.5/12.8 MB 2.8 MB/s eta 0:00:02\n",
      "     --------------------------- ------------ 8.9/12.8 MB 3.0 MB/s eta 0:00:02\n",
      "     ----------------------------- ---------- 9.3/12.8 MB 3.0 MB/s eta 0:00:02\n",
      "     ------------------------------ --------- 9.7/12.8 MB 3.1 MB/s eta 0:00:01\n",
      "     ------------------------------- -------- 10.2/12.8 MB 3.2 MB/s eta 0:00:01\n",
      "     --------------------------------- ------ 10.7/12.8 MB 3.5 MB/s eta 0:00:01\n",
      "     ---------------------------------- ----- 11.1/12.8 MB 3.5 MB/s eta 0:00:01\n",
      "     ------------------------------------ --- 11.7/12.8 MB 3.5 MB/s eta 0:00:01\n",
      "     ------------------------------------- -- 12.1/12.8 MB 7.4 MB/s eta 0:00:01\n",
      "     ---------------------------------------  12.8/12.8 MB 8.0 MB/s eta 0:00:01\n",
      "     ---------------------------------------- 12.8/12.8 MB 7.8 MB/s eta 0:00:00\n",
      "\u001b[38;5;2m[+] Download and installation successful\u001b[0m\n",
      "You can now load the package via spacy.load('en_core_web_sm')\n"
     ]
    }
   ],
   "source": [
    "!python -m spacy download en_core_web_sm\n"
   ]
  },
  {
   "cell_type": "code",
   "execution_count": 6,
   "id": "ec2c11d8-a705-4584-a475-0a8e1a16c9ec",
   "metadata": {},
   "outputs": [],
   "source": [
    "import os\n",
    "import pandas as pd\n",
    "import re\n",
    "import numpy as np\n",
    "import spacy\n",
    "from sklearn.model_selection import train_test_split, cross_val_score\n",
    "from sklearn.feature_extraction.text import TfidfVectorizer\n",
    "from sklearn.linear_model import LogisticRegression, LinearRegression\n",
    "from sklearn.ensemble import RandomForestRegressor\n",
    "from sklearn.metrics import accuracy_score, mean_squared_error, classification_report\n",
    "\n",
    "import joblib"
   ]
  },
  {
   "cell_type": "code",
   "execution_count": 7,
   "id": "1d124e44-d648-4f5d-b73c-7438bb0fbf52",
   "metadata": {},
   "outputs": [],
   "source": [
    "nlp = spacy.load(\"en_core_web_sm\")"
   ]
  },
  {
   "cell_type": "code",
   "execution_count": 8,
   "id": "d7e959b6-794c-4221-87b9-a202532b777e",
   "metadata": {},
   "outputs": [],
   "source": [
    "def load_reviews_with_ratings(directory):\n",
    "    reviews, ratings, labels = [], [], []\n",
    "    for label in ['pos', 'neg']:\n",
    "        label_dir = os.path.join(directory, label)\n",
    "        for filename in os.listdir(label_dir):\n",
    "            if filename.endswith(\".txt\"):\n",
    "                match = re.match(r'(\\d+)_(\\d+)\\.txt', filename)\n",
    "                if match:\n",
    "                    _, rating = match.groups()\n",
    "                    rating = int(rating)\n",
    "                    with open(os.path.join(label_dir, filename), 'r', encoding='utf-8') as file:\n",
    "                        review_text = file.read()\n",
    "                    reviews.append(review_text)\n",
    "                    ratings.append(rating)\n",
    "                    labels.append(1 if label == 'pos' else 0)\n",
    "    return reviews, ratings, labels\n",
    "\n",
    "# Путь к данным\n",
    "train_dir = r\"C:\\Users\\ysx12\\Downloads\\aclImdb_v1\\aclImdb\\train\"\n",
    "reviews, ratings, labels = load_reviews_with_ratings(train_dir)\n",
    "\n",
    "# Преобразуем в DataFrame\n",
    "df = pd.DataFrame({'review': reviews, 'rating': ratings, 'label': labels})\n",
    "\n",
    "# Функция предобработки с spaCy\n",
    "def preprocess_text(text):\n",
    "    doc = nlp(text.lower())\n",
    "    tokens = [token.lemma_ for token in doc if not token.is_stop and token.is_alpha]\n",
    "    return ' '.join(tokens)"
   ]
  },
  {
   "cell_type": "code",
   "execution_count": 9,
   "id": "afc050f7-7547-48e6-b832-5b973ec24c50",
   "metadata": {},
   "outputs": [],
   "source": [
    "df[\"cleaned_review\"] = df[\"review\"].apply(preprocess_text)"
   ]
  },
  {
   "cell_type": "code",
   "execution_count": 10,
   "id": "4412cd78-4250-4a6d-9f13-49bd7e58888c",
   "metadata": {},
   "outputs": [
    {
     "data": {
      "text/html": [
       "<div>\n",
       "<style scoped>\n",
       "    .dataframe tbody tr th:only-of-type {\n",
       "        vertical-align: middle;\n",
       "    }\n",
       "\n",
       "    .dataframe tbody tr th {\n",
       "        vertical-align: top;\n",
       "    }\n",
       "\n",
       "    .dataframe thead th {\n",
       "        text-align: right;\n",
       "    }\n",
       "</style>\n",
       "<table border=\"1\" class=\"dataframe\">\n",
       "  <thead>\n",
       "    <tr style=\"text-align: right;\">\n",
       "      <th></th>\n",
       "      <th>review</th>\n",
       "      <th>rating</th>\n",
       "      <th>label</th>\n",
       "      <th>cleaned_review</th>\n",
       "    </tr>\n",
       "  </thead>\n",
       "  <tbody>\n",
       "    <tr>\n",
       "      <th>0</th>\n",
       "      <td>Bromwell High is a cartoon comedy. It ran at t...</td>\n",
       "      <td>9</td>\n",
       "      <td>1</td>\n",
       "      <td>bromwell high cartoon comedy run time program ...</td>\n",
       "    </tr>\n",
       "    <tr>\n",
       "      <th>1</th>\n",
       "      <td>Homelessness (or Houselessness as George Carli...</td>\n",
       "      <td>8</td>\n",
       "      <td>1</td>\n",
       "      <td>homelessness houselessness george carlin state...</td>\n",
       "    </tr>\n",
       "    <tr>\n",
       "      <th>2</th>\n",
       "      <td>Brilliant over-acting by Lesley Ann Warren. Be...</td>\n",
       "      <td>10</td>\n",
       "      <td>1</td>\n",
       "      <td>brilliant act lesley ann warren good dramatic ...</td>\n",
       "    </tr>\n",
       "    <tr>\n",
       "      <th>3</th>\n",
       "      <td>This is easily the most underrated film inn th...</td>\n",
       "      <td>7</td>\n",
       "      <td>1</td>\n",
       "      <td>easily underrated film inn brooks cannon sure ...</td>\n",
       "    </tr>\n",
       "    <tr>\n",
       "      <th>4</th>\n",
       "      <td>This is not the typical Mel Brooks film. It wa...</td>\n",
       "      <td>8</td>\n",
       "      <td>1</td>\n",
       "      <td>typical mel brooks film slapstick movie actual...</td>\n",
       "    </tr>\n",
       "  </tbody>\n",
       "</table>\n",
       "</div>"
      ],
      "text/plain": [
       "                                              review  rating  label  \\\n",
       "0  Bromwell High is a cartoon comedy. It ran at t...       9      1   \n",
       "1  Homelessness (or Houselessness as George Carli...       8      1   \n",
       "2  Brilliant over-acting by Lesley Ann Warren. Be...      10      1   \n",
       "3  This is easily the most underrated film inn th...       7      1   \n",
       "4  This is not the typical Mel Brooks film. It wa...       8      1   \n",
       "\n",
       "                                      cleaned_review  \n",
       "0  bromwell high cartoon comedy run time program ...  \n",
       "1  homelessness houselessness george carlin state...  \n",
       "2  brilliant act lesley ann warren good dramatic ...  \n",
       "3  easily underrated film inn brooks cannon sure ...  \n",
       "4  typical mel brooks film slapstick movie actual...  "
      ]
     },
     "execution_count": 10,
     "metadata": {},
     "output_type": "execute_result"
    }
   ],
   "source": [
    "df.head()"
   ]
  },
  {
   "cell_type": "code",
   "execution_count": 11,
   "id": "85433e70-98f7-4830-b8d5-b03bde7586f1",
   "metadata": {},
   "outputs": [
    {
     "name": "stdout",
     "output_type": "stream",
     "text": [
      "Точность: 0.88\n",
      "Отчет о классификации:\n",
      "               precision    recall  f1-score   support\n",
      "\n",
      "           0       0.89      0.87      0.88      2485\n",
      "           1       0.87      0.90      0.88      2515\n",
      "\n",
      "    accuracy                           0.88      5000\n",
      "   macro avg       0.88      0.88      0.88      5000\n",
      "weighted avg       0.88      0.88      0.88      5000\n",
      "\n"
     ]
    }
   ],
   "source": [
    "X_train, X_test, y_train, y_test = train_test_split(\n",
    "    df[\"cleaned_review\"], df[\"label\"], test_size=0.2, random_state=42)\n",
    "\n",
    "# Векторизация\n",
    "tfidf = TfidfVectorizer(max_features=5000)\n",
    "X_train_tfidf = tfidf.fit_transform(X_train)\n",
    "X_test_tfidf = tfidf.transform(X_test)\n",
    "\n",
    "# Логистическая регрессия для классификации\n",
    "model_status = LogisticRegression(max_iter=1000, random_state=42, class_weight='balanced')\n",
    "model_status.fit(X_train_tfidf, y_train)\n",
    "y_pred_status = model_status.predict(X_test_tfidf)\n",
    "\n",
    "print(f\"Точность: {accuracy_score(y_test, y_pred_status):.2f}\")\n",
    "print(\"Отчет о классификации:\\n\", classification_report(y_test, y_pred_status))"
   ]
  },
  {
   "cell_type": "code",
   "execution_count": 12,
   "id": "d71a7d2f-21cf-46a3-a508-a6c7c587c7ff",
   "metadata": {},
   "outputs": [
    {
     "name": "stdout",
     "output_type": "stream",
     "text": [
      "RMSE для прогноза рейтинга: 2.38\n"
     ]
    }
   ],
   "source": [
    "X_train, X_test, y_train, y_test = train_test_split(\n",
    "    df[\"cleaned_review\"], df[\"rating\"], test_size=0.2, random_state=42)\n",
    "\n",
    "X_train_tfidf = tfidf.fit_transform(X_train)\n",
    "X_test_tfidf = tfidf.transform(X_test)\n",
    "\n",
    "model_rating = LinearRegression()\n",
    "model_rating.fit(X_train_tfidf, y_train)\n",
    "\n",
    "y_pred_rating = model_rating.predict(X_test_tfidf)\n",
    "\n",
    "rmse = np.sqrt(mean_squared_error(y_test, y_pred_rating))\n",
    "print(f\"RMSE для прогноза рейтинга: {rmse:.2f}\")"
   ]
  },
  {
   "cell_type": "code",
   "execution_count": 13,
   "id": "86227979-6a58-41ca-87df-0c37b92c56dd",
   "metadata": {},
   "outputs": [
    {
     "name": "stdout",
     "output_type": "stream",
     "text": [
      "Результат: {'status': 'positive', 'rating': 8}\n"
     ]
    }
   ],
   "source": [
    "def predict_review(text):\n",
    "    if not text.strip():\n",
    "        return {\"error\": \"Review text is empty.\"}\n",
    "\n",
    "    cleaned_text = preprocess_text(text)\n",
    "    vectorized_text = tfidf.transform([cleaned_text])\n",
    "\n",
    "    predicted_status = model_status.predict(vectorized_text)[0]\n",
    "    status = \"positive\" if predicted_status == 1 else \"negative\"\n",
    "\n",
    "    predicted_rating = int(np.clip(np.round(model_rating.predict(vectorized_text)[0]), 1, 10))\n",
    "    return {\"status\": status, \"rating\": predicted_rating}\n",
    "\n",
    "# Пример прогноза на новом отзыве\n",
    "new_review = \"This movie was amazing! I couldn't stop watching it.\"\n",
    "result = predict_review(new_review)\n",
    "print(f\"Результат: {result}\")"
   ]
  },
  {
   "cell_type": "code",
   "execution_count": 14,
   "id": "ca8e858a-baea-41b3-805a-c765a1da9162",
   "metadata": {
    "scrolled": true
   },
   "outputs": [
    {
     "name": "stdout",
     "output_type": "stream",
     "text": [
      "Модель и векторизатор успешно сохранены!\n"
     ]
    }
   ],
   "source": [
    "# Сохраняем модель и векторизатор\n",
    "joblib.dump(model_status, 'status_model.pkl')\n",
    "joblib.dump(model_rating, 'sentiment_model.pkl')  # Сохраняем обученную модель\n",
    "joblib.dump(tfidf, 'tfidf_vectorizer.pkl')  # Сохраняем TF-IDF векторизатор\n",
    "\n",
    "print(\"Модель и векторизатор успешно сохранены!\")"
   ]
  },
  {
   "cell_type": "code",
   "execution_count": null,
   "id": "14436715-3839-4c00-9707-d6f1d2423931",
   "metadata": {},
   "outputs": [],
   "source": []
  }
 ],
 "metadata": {
  "kernelspec": {
   "display_name": "Python 3 (ipykernel)",
   "language": "python",
   "name": "python3"
  },
  "language_info": {
   "codemirror_mode": {
    "name": "ipython",
    "version": 3
   },
   "file_extension": ".py",
   "mimetype": "text/x-python",
   "name": "python",
   "nbconvert_exporter": "python",
   "pygments_lexer": "ipython3",
   "version": "3.11.7"
  },
  "widgets": {
   "application/vnd.jupyter.widget-state+json": {
    "state": {},
    "version_major": 2,
    "version_minor": 0
   }
  }
 },
 "nbformat": 4,
 "nbformat_minor": 5
}
